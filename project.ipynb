{
 "cells": [
  {
   "cell_type": "code",
   "execution_count": 1,
   "metadata": {},
   "outputs": [],
   "source": [
    "import pandas as pd"
   ]
  },
  {
   "cell_type": "markdown",
   "metadata": {},
   "source": [
    "### 1. Data Cleaning"
   ]
  },
  {
   "cell_type": "code",
   "execution_count": null,
   "metadata": {},
   "outputs": [],
   "source": [
    "pd.read_csv()"
   ]
  },
  {
   "cell_type": "code",
   "execution_count": 4,
   "metadata": {},
   "outputs": [
    {
     "name": "stdout",
     "output_type": "stream",
     "text": [
      "{1: 'Medium spender', 2: 'Medium spender', 3: 'High spender'}\n"
     ]
    }
   ],
   "source": [
    "def segment_customers(transactions):\n",
    "    customer_spending = {}\n",
    "\n",
    "    # Aggregate the spending for each customer\n",
    "    for transaction in transactions:\n",
    "        customer_spending[transaction['customer_id']] = customer_spending.get(transaction['customer_id'], 0) + transaction['amount']\n",
    "    \n",
    "    # Create the segmentation dictionary\n",
    "    customer_segments = {}\n",
    "    for customer_id, total_spent in customer_spending.items():\n",
    "        if total_spent < 500:\n",
    "            customer_segments[customer_id] = 'Low spender'\n",
    "        elif 500 <= total_spent <= 2000:\n",
    "            customer_segments[customer_id] = 'Medium spender'\n",
    "        else:\n",
    "            customer_segments[customer_id] = 'High spender'\n",
    "    \n",
    "    return customer_segments\n",
    "\n",
    "# Example usage\n",
    "transactions = [\n",
    "    {'customer_id': 1, 'amount': 120},\n",
    "    {'customer_id': 2, 'amount': 450},\n",
    "    {'customer_id': 1, 'amount': 380},\n",
    "    {'customer_id': 3, 'amount': 3000},\n",
    "    {'customer_id': 2, 'amount': 600},\n",
    "    {'customer_id': 3, 'amount': 1000},\n",
    "]\n",
    "\n",
    "print(segment_customers(transactions))\n"
   ]
  },
  {
   "cell_type": "code",
   "execution_count": null,
   "metadata": {},
   "outputs": [],
   "source": []
  },
  {
   "cell_type": "code",
   "execution_count": null,
   "metadata": {},
   "outputs": [],
   "source": []
  },
  {
   "cell_type": "code",
   "execution_count": null,
   "metadata": {},
   "outputs": [],
   "source": []
  }
 ],
 "metadata": {
  "kernelspec": {
   "display_name": "Python 3",
   "language": "python",
   "name": "python3"
  },
  "language_info": {
   "codemirror_mode": {
    "name": "ipython",
    "version": 3
   },
   "file_extension": ".py",
   "mimetype": "text/x-python",
   "name": "python",
   "nbconvert_exporter": "python",
   "pygments_lexer": "ipython3",
   "version": "3.9.2"
  }
 },
 "nbformat": 4,
 "nbformat_minor": 2
}
